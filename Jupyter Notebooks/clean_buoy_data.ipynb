{
 "cells": [
  {
   "cell_type": "code",
   "execution_count": 1,
   "metadata": {},
   "outputs": [],
   "source": [
    "import pandas as pd\n",
    "import numpy as np\n",
    "\n",
    "pd.set_option('max_columns', 1000)\n",
    "pd.set_option('max_rows', 1000)"
   ]
  },
  {
   "cell_type": "markdown",
   "metadata": {},
   "source": [
    "## Cleaning Data"
   ]
  },
  {
   "cell_type": "code",
   "execution_count": 2,
   "metadata": {
    "scrolled": false
   },
   "outputs": [
    {
     "name": "stderr",
     "output_type": "stream",
     "text": [
      "/usr/local/lib/python3.6/site-packages/IPython/core/interactiveshell.py:2785: DtypeWarning: Columns (1,2,3,4,5,6,7,8,9,10,11,12,13,14,15,16,17,18,19,20,21,22,23,24,25,26,27,28,29,30,31,32,33,34,35,36,37) have mixed types. Specify dtype option on import or set low_memory=False.\n",
      "  interactivity=interactivity, compiler=compiler, result=result)\n"
     ]
    }
   ],
   "source": [
    "buoy_df = pd.read_csv('/Users/brianjoseph/Desktop/Cod-Squad/data/buoy_data.csv')"
   ]
  },
  {
   "cell_type": "code",
   "execution_count": 3,
   "metadata": {},
   "outputs": [],
   "source": [
    "buoy_df = buoy_df[['Time-UTC'] + [col for col in buoy_df.columns if 'M01-' in col or 'N01-' in col]]"
   ]
  },
  {
   "cell_type": "code",
   "execution_count": 4,
   "metadata": {},
   "outputs": [],
   "source": [
    "buoy_times = pd.DataFrame((buoy_df['Time-UTC'].str.extractall(\n",
    "    '(?P<year>\\d{4})-(?P<month>\\d{2})-(?P<date>\\d{2}) (?P<hour>\\d{2}):(?P<minute>\\d{2}):(?P<second>\\d{2})')))\\\n",
    ".reset_index()[['year', 'month', 'date', 'hour', 'minute']]"
   ]
  },
  {
   "cell_type": "code",
   "execution_count": 5,
   "metadata": {},
   "outputs": [],
   "source": [
    "buoy_df = pd.merge(buoy_times, buoy_df.drop('Time-UTC', axis = 1), how = 'left', left_index = True, right_index = True)\n",
    "buoy_df = buoy_df[buoy_df['year'] != '2019']\n",
    "buoy_df = buoy_df.drop(buoy_df[buoy_df['M01-Hourly-Visibility_m'] == 'M01-Hourly-Visibility_m'].index)\n",
    "\n",
    "for col in buoy_df.columns:\n",
    "    buoy_df[col] = buoy_df[col].astype(float)"
   ]
  },
  {
   "cell_type": "code",
   "execution_count": 6,
   "metadata": {},
   "outputs": [],
   "source": [
    "TIME_COLS = ['year', 'month', 'date', 'hour', 'minute']\n",
    "m01_df = buoy_df[TIME_COLS + [col for col in buoy_df.columns if 'M01-' in col]]\n",
    "n01_df = buoy_df[TIME_COLS + [col for col in buoy_df.columns if 'N01-' in col]]"
   ]
  },
  {
   "cell_type": "code",
   "execution_count": 7,
   "metadata": {},
   "outputs": [],
   "source": [
    "m01_df.columns = [col.replace('M01-Hourly-', '').lower() for col in m01_df.columns]\n",
    "n01_df.columns = [col.replace('N01-Hourly-', '').lower() for col in n01_df.columns]"
   ]
  },
  {
   "cell_type": "code",
   "execution_count": 8,
   "metadata": {},
   "outputs": [],
   "source": [
    "m01_df.to_csv('m01_buoy.csv')\n",
    "n01_df.to_csv('n01_buoy.csv')"
   ]
  }
 ],
 "metadata": {
  "kernelspec": {
   "display_name": "Python 3",
   "language": "python",
   "name": "python3"
  },
  "language_info": {
   "codemirror_mode": {
    "name": "ipython",
    "version": 3
   },
   "file_extension": ".py",
   "mimetype": "text/x-python",
   "name": "python",
   "nbconvert_exporter": "python",
   "pygments_lexer": "ipython3",
   "version": "3.6.5"
  }
 },
 "nbformat": 4,
 "nbformat_minor": 2
}
