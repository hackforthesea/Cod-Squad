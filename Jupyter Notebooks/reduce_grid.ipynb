{
 "cells": [
  {
   "cell_type": "code",
   "execution_count": 1,
   "metadata": {},
   "outputs": [],
   "source": [
    "import pandas as pd"
   ]
  },
  {
   "cell_type": "code",
   "execution_count": 2,
   "metadata": {},
   "outputs": [],
   "source": [
    "or_sed_grid = 'C:\\\\Users\\\\mdulieu\\\\Documents\\\\hackforthesea\\\\Cod-Squad\\\\data\\\\sediment\\\\sediment_loc_grid.csv'"
   ]
  },
  {
   "cell_type": "code",
   "execution_count": 3,
   "metadata": {},
   "outputs": [],
   "source": [
    "sediments_grid = pd.read_csv(or_sed_grid)"
   ]
  },
  {
   "cell_type": "code",
   "execution_count": 9,
   "metadata": {},
   "outputs": [],
   "source": [
    "sediment_classes = [\n",
    "        'GRAVEL',\n",
    "        'SAND',\n",
    "        'CLAY',\n",
    "        'MUD',\n",
    "        'SILT',\n",
    "        'CLAY',\n",
    "        'ROCK',\n",
    "        'SEDIMENT',\n",
    "        'BEDROCK'\n",
    "    ] "
   ]
  },
  {
   "cell_type": "code",
   "execution_count": 12,
   "metadata": {},
   "outputs": [],
   "source": [
    "for sediment_class in sediment_classes:\n",
    "    sediments_grid[sediment_class] = sediments_grid.dropna().groupby(['grid_id'])['LITHO_GROUP'].transform(lambda x: x[x.str.contains(sediment_class)].count())"
   ]
  },
  {
   "cell_type": "code",
   "execution_count": 24,
   "metadata": {},
   "outputs": [],
   "source": [
    "aggr = {\n",
    "    'GRAVEL': 'mean',\n",
    "    'SAND': 'mean',\n",
    "    'CLAY': 'mean',\n",
    "    'MUD': 'mean',\n",
    "    'SILT': 'mean',\n",
    "    'CLAY': 'mean',\n",
    "    'ROCK': 'mean',\n",
    "    'SEDIMENT': 'mean',\n",
    "    'BEDROCK':'mean'\n",
    "}\n",
    "\n",
    "sediment_reduce = sediments_grid.groupby('grid_id').agg(aggr)"
   ]
  },
  {
   "cell_type": "code",
   "execution_count": 25,
   "metadata": {},
   "outputs": [],
   "source": [
    "dest_sed_grid = 'C:\\\\Users\\\\mdulieu\\\\Documents\\\\hackforthesea\\\\Cod-Squad\\\\data\\\\sediment\\\\sediment_reduce_grid.csv'\n",
    "sediment_reduce.to_csv(dest_sed_grid)"
   ]
  }
 ],
 "metadata": {
  "kernelspec": {
   "display_name": "Python 3",
   "language": "python",
   "name": "python3"
  },
  "language_info": {
   "codemirror_mode": {
    "name": "ipython",
    "version": 3
   },
   "file_extension": ".py",
   "mimetype": "text/x-python",
   "name": "python",
   "nbconvert_exporter": "python",
   "pygments_lexer": "ipython3",
   "version": "3.6.5"
  }
 },
 "nbformat": 4,
 "nbformat_minor": 2
}
