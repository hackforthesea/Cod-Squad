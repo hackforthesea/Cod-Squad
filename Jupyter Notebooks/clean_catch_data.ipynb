{
 "cells": [
  {
   "cell_type": "code",
   "execution_count": 1,
   "metadata": {},
   "outputs": [],
   "source": [
    "import pandas as pd\n",
    "import numpy as np\n",
    "import seaborn as sns\n",
    "import re\n",
    "\n",
    "pd.set_option('max_columns', 1000)\n",
    "pd.set_option('max_rows', 1000)"
   ]
  },
  {
   "cell_type": "code",
   "execution_count": 2,
   "metadata": {},
   "outputs": [],
   "source": [
    "ORG_PATH = '../data/IBS2_First_2_Years/Organism_values.xlsx'\n",
    "SPEC_PATH = '../data/IBS2_First_2_Years/Species_weights.xlsx'\n",
    "TOW_PATH = '../data/IBS2_First_2_Years/Tow_Info.xlsx'\n",
    "\n",
    "ORG_PATH_3 = '../data/y3/organism_values.xlsx'\n",
    "SPEC_PATH_3 = '../data/y3/species_weights_201880.xlsx'\n",
    "TOW_PATH_3 = '../data/y3/tow_info_201880.xlsx'\n",
    "\n",
    "ORG_PATH_MORE = '../data/organism_values_201880.xlsx'"
   ]
  },
  {
   "cell_type": "code",
   "execution_count": 3,
   "metadata": {
    "scrolled": true
   },
   "outputs": [],
   "source": [
    "org_df = pd.read_excel(ORG_PATH, )\n",
    "org_3_df = pd.read_excel(ORG_PATH_3)\n",
    "org_more_df = pd.read_excel(ORG_PATH_MORE)\n",
    "\n",
    "spec_df = pd.read_excel(SPEC_PATH)\n",
    "spec_3_df = pd.read_excel(SPEC_PATH_3)\n",
    "\n",
    "tow_df = pd.read_excel(TOW_PATH)\n",
    "tow_3_df = pd.read_excel(TOW_PATH_3)"
   ]
  },
  {
   "cell_type": "markdown",
   "metadata": {},
   "source": [
    "## Clean Data"
   ]
  },
  {
   "cell_type": "code",
   "execution_count": 4,
   "metadata": {},
   "outputs": [],
   "source": [
    "org_df['year'] = 1\n",
    "org_3_df['year'] = 3\n",
    "org_more_df['year'] = 3\n",
    "\n",
    "org_more_df = org_more_df[org_more_df['SPECIES'] == 'Gadus morhua (Atlantic cod)']"
   ]
  },
  {
   "cell_type": "code",
   "execution_count": 5,
   "metadata": {},
   "outputs": [],
   "source": [
    "spec_df.drop('SPECIES_GROUP_NAME', axis = 1, inplace = True)\n",
    "spec_3_df.drop('SPECIES_GROUP_NAME', axis = 1, inplace = True)\n",
    "\n",
    "spec_df.drop('SPECIES_GROUP_ID', axis = 1, inplace = True)\n",
    "spec_3_df.drop('SPECIES_GROUP_ID', axis = 1, inplace = True)\n",
    "\n",
    "spec_df['year'] = 1\n",
    "spec_3_df['year'] = 3"
   ]
  },
  {
   "cell_type": "code",
   "execution_count": 6,
   "metadata": {},
   "outputs": [],
   "source": [
    "tow_df['year'] = 1\n",
    "tow_3_df['year'] = 3"
   ]
  },
  {
   "cell_type": "code",
   "execution_count": 7,
   "metadata": {},
   "outputs": [],
   "source": [
    "org_df_final = org_df.append(org_3_df).append(org_more_df)\n",
    "spec_df_final = spec_df.append(spec_3_df)\n",
    "tow_df_final = tow_df.append(tow_3_df)"
   ]
  },
  {
   "cell_type": "code",
   "execution_count": 8,
   "metadata": {},
   "outputs": [],
   "source": [
    "org_df_final.columns = [col.lower() for col in org_df.columns]\n",
    "spec_df_final.columns = [col.lower() for col in spec_df.columns]\n",
    "tow_df_final.columns = [col.lower() for col in tow_df.columns]"
   ]
  },
  {
   "cell_type": "code",
   "execution_count": 9,
   "metadata": {},
   "outputs": [
    {
     "data": {
      "text/html": [
       "<div>\n",
       "<style scoped>\n",
       "    .dataframe tbody tr th:only-of-type {\n",
       "        vertical-align: middle;\n",
       "    }\n",
       "\n",
       "    .dataframe tbody tr th {\n",
       "        vertical-align: top;\n",
       "    }\n",
       "\n",
       "    .dataframe thead th {\n",
       "        text-align: right;\n",
       "    }\n",
       "</style>\n",
       "<table border=\"1\" class=\"dataframe\">\n",
       "  <thead>\n",
       "    <tr style=\"text-align: right;\">\n",
       "      <th></th>\n",
       "      <th>operation_id</th>\n",
       "      <th>operation_status</th>\n",
       "      <th>cruise_id</th>\n",
       "      <th>site_name</th>\n",
       "      <th>start_time</th>\n",
       "      <th>start_lat</th>\n",
       "      <th>start_lon</th>\n",
       "      <th>end_time</th>\n",
       "      <th>end_lat</th>\n",
       "      <th>end_lon</th>\n",
       "      <th>year</th>\n",
       "    </tr>\n",
       "  </thead>\n",
       "  <tbody>\n",
       "    <tr>\n",
       "      <th>0</th>\n",
       "      <td>2</td>\n",
       "      <td>Representative</td>\n",
       "      <td>201682</td>\n",
       "      <td>1-52 ALT</td>\n",
       "      <td>6/10/2016 10:54:51 PM</td>\n",
       "      <td>4333.933N</td>\n",
       "      <td>06958.789W</td>\n",
       "      <td>6/10/2016 11:15:11 PM</td>\n",
       "      <td>4333.234N</td>\n",
       "      <td>06959.755W</td>\n",
       "      <td>1</td>\n",
       "    </tr>\n",
       "    <tr>\n",
       "      <th>1</th>\n",
       "      <td>3</td>\n",
       "      <td>Representative</td>\n",
       "      <td>201680</td>\n",
       "      <td>8-32</td>\n",
       "      <td>4/18/2016 11:11:17 AM</td>\n",
       "      <td>4212.849N</td>\n",
       "      <td>07019.059W</td>\n",
       "      <td>4/18/2016 11:41:24 AM</td>\n",
       "      <td>4214.227N</td>\n",
       "      <td>07018.776W</td>\n",
       "      <td>1</td>\n",
       "    </tr>\n",
       "    <tr>\n",
       "      <th>2</th>\n",
       "      <td>3</td>\n",
       "      <td>Representative</td>\n",
       "      <td>201681</td>\n",
       "      <td>7-29</td>\n",
       "      <td>5/9/2016 9:15:05 AM</td>\n",
       "      <td>4212.533N</td>\n",
       "      <td>07035.072W</td>\n",
       "      <td>5/9/2016 9:45:04 AM</td>\n",
       "      <td>4211.655N</td>\n",
       "      <td>07033.639W</td>\n",
       "      <td>1</td>\n",
       "    </tr>\n",
       "    <tr>\n",
       "      <th>3</th>\n",
       "      <td>3</td>\n",
       "      <td>Representative</td>\n",
       "      <td>201682</td>\n",
       "      <td>3-8</td>\n",
       "      <td>6/11/2016 10:55:19 AM</td>\n",
       "      <td>4326.682N</td>\n",
       "      <td>06932.646W</td>\n",
       "      <td>6/11/2016 11:25:19 AM</td>\n",
       "      <td>4325.466N</td>\n",
       "      <td>06933.877W</td>\n",
       "      <td>1</td>\n",
       "    </tr>\n",
       "    <tr>\n",
       "      <th>4</th>\n",
       "      <td>4</td>\n",
       "      <td>Representative</td>\n",
       "      <td>201680</td>\n",
       "      <td>8-34</td>\n",
       "      <td>4/18/2016 1:44:38 PM</td>\n",
       "      <td>4209.141N</td>\n",
       "      <td>07003.976W</td>\n",
       "      <td>4/18/2016 2:15:03 PM</td>\n",
       "      <td>4207.861N</td>\n",
       "      <td>07003.031W</td>\n",
       "      <td>1</td>\n",
       "    </tr>\n",
       "  </tbody>\n",
       "</table>\n",
       "</div>"
      ],
      "text/plain": [
       "   operation_id operation_status  cruise_id site_name             start_time  \\\n",
       "0             2   Representative     201682  1-52 ALT  6/10/2016 10:54:51 PM   \n",
       "1             3   Representative     201680      8-32  4/18/2016 11:11:17 AM   \n",
       "2             3   Representative     201681      7-29    5/9/2016 9:15:05 AM   \n",
       "3             3   Representative     201682       3-8  6/11/2016 10:55:19 AM   \n",
       "4             4   Representative     201680      8-34   4/18/2016 1:44:38 PM   \n",
       "\n",
       "   start_lat   start_lon               end_time    end_lat     end_lon  year  \n",
       "0  4333.933N  06958.789W  6/10/2016 11:15:11 PM  4333.234N  06959.755W     1  \n",
       "1  4212.849N  07019.059W  4/18/2016 11:41:24 AM  4214.227N  07018.776W     1  \n",
       "2  4212.533N  07035.072W    5/9/2016 9:45:04 AM  4211.655N  07033.639W     1  \n",
       "3  4326.682N  06932.646W  6/11/2016 11:25:19 AM  4325.466N  06933.877W     1  \n",
       "4  4209.141N  07003.976W   4/18/2016 2:15:03 PM  4207.861N  07003.031W     1  "
      ]
     },
     "execution_count": 9,
     "metadata": {},
     "output_type": "execute_result"
    }
   ],
   "source": [
    "tow_df_final.head()"
   ]
  },
  {
   "cell_type": "code",
   "execution_count": 10,
   "metadata": {},
   "outputs": [],
   "source": [
    "MERGE_COLS = ['year', 'operation_id', 'cruise_id']\n",
    "\n",
    "test = pd.merge(tow_df_final, org_df_final, how = 'inner',\n",
    "         left_on = MERGE_COLS, right_on = MERGE_COLS)"
   ]
  },
  {
   "cell_type": "code",
   "execution_count": 11,
   "metadata": {},
   "outputs": [
    {
     "data": {
      "text/plain": [
       "850"
      ]
     },
     "execution_count": 11,
     "metadata": {},
     "output_type": "execute_result"
    }
   ],
   "source": [
    "len(tow_df_final.index)"
   ]
  },
  {
   "cell_type": "code",
   "execution_count": 12,
   "metadata": {
    "scrolled": true
   },
   "outputs": [
    {
     "data": {
      "text/html": [
       "<div>\n",
       "<style scoped>\n",
       "    .dataframe tbody tr th:only-of-type {\n",
       "        vertical-align: middle;\n",
       "    }\n",
       "\n",
       "    .dataframe tbody tr th {\n",
       "        vertical-align: top;\n",
       "    }\n",
       "\n",
       "    .dataframe thead th {\n",
       "        text-align: right;\n",
       "    }\n",
       "</style>\n",
       "<table border=\"1\" class=\"dataframe\">\n",
       "  <thead>\n",
       "    <tr style=\"text-align: right;\">\n",
       "      <th></th>\n",
       "      <th>tow_wt</th>\n",
       "      <th>cruise_id</th>\n",
       "      <th>operation_id</th>\n",
       "      <th>year</th>\n",
       "    </tr>\n",
       "  </thead>\n",
       "  <tbody>\n",
       "    <tr>\n",
       "      <th>0</th>\n",
       "      <td>0.022</td>\n",
       "      <td>201680</td>\n",
       "      <td>53</td>\n",
       "      <td>1</td>\n",
       "    </tr>\n",
       "    <tr>\n",
       "      <th>1</th>\n",
       "      <td>0.053</td>\n",
       "      <td>201780</td>\n",
       "      <td>4</td>\n",
       "      <td>1</td>\n",
       "    </tr>\n",
       "    <tr>\n",
       "      <th>2</th>\n",
       "      <td>0.072</td>\n",
       "      <td>201781</td>\n",
       "      <td>139</td>\n",
       "      <td>1</td>\n",
       "    </tr>\n",
       "    <tr>\n",
       "      <th>3</th>\n",
       "      <td>0.130</td>\n",
       "      <td>201780</td>\n",
       "      <td>156</td>\n",
       "      <td>1</td>\n",
       "    </tr>\n",
       "    <tr>\n",
       "      <th>4</th>\n",
       "      <td>0.148</td>\n",
       "      <td>201681</td>\n",
       "      <td>58</td>\n",
       "      <td>1</td>\n",
       "    </tr>\n",
       "  </tbody>\n",
       "</table>\n",
       "</div>"
      ],
      "text/plain": [
       "   tow_wt  cruise_id  operation_id  year\n",
       "0   0.022     201680            53     1\n",
       "1   0.053     201780             4     1\n",
       "2   0.072     201781           139     1\n",
       "3   0.130     201780           156     1\n",
       "4   0.148     201681            58     1"
      ]
     },
     "execution_count": 12,
     "metadata": {},
     "output_type": "execute_result"
    }
   ],
   "source": [
    "spec_df_final.head()"
   ]
  },
  {
   "cell_type": "markdown",
   "metadata": {},
   "source": [
    "## Final DFs"
   ]
  },
  {
   "cell_type": "code",
   "execution_count": 13,
   "metadata": {},
   "outputs": [],
   "source": [
    "catch_df = pd.read_csv('../data/catch_data/combined_cod_catch_data.csv')"
   ]
  },
  {
   "cell_type": "code",
   "execution_count": 14,
   "metadata": {},
   "outputs": [],
   "source": [
    "catch_df = catch_df.drop(['OPERATION_ID.x', 'OPERATION_ID.y'], axis = 1)\n",
    "catch_df = catch_df.drop(['CRUISE_ID.x', 'CRUISE_ID.y'], axis = 1)\n",
    "catch_df = catch_df.drop([col for col in catch_df.columns if '.x' in col], axis = 1)\n",
    "catch_df.columns = [col.replace('.y', '').lower() for col in catch_df.columns]\n",
    "catch_df['organism_id'] = catch_df['organism_id'].str.replace(',', '').astype(int)\n",
    "catch_df['start_time'] = pd.to_datetime(catch_df['start_time'])\n",
    "catch_df['end_time'] = pd.to_datetime(catch_df['end_time'])\n",
    "\n",
    "USELESS_COLS = [col for col in catch_df.columns if catch_df[col].nunique() == 1]\n",
    "catch_df.drop(USELESS_COLS, axis = 1, inplace = True)\n",
    "catch_df.drop(['start_lat', 'start_lon', 'end_lat', 'end_lon'], axis = 1, inplace = True)"
   ]
  },
  {
   "cell_type": "code",
   "execution_count": 15,
   "metadata": {},
   "outputs": [],
   "source": [
    "catch_df.to_csv('combined_cod_catch_data_cleaned.csv')"
   ]
  }
 ],
 "metadata": {
  "kernelspec": {
   "display_name": "Python 3",
   "language": "python",
   "name": "python3"
  },
  "language_info": {
   "codemirror_mode": {
    "name": "ipython",
    "version": 3
   },
   "file_extension": ".py",
   "mimetype": "text/x-python",
   "name": "python",
   "nbconvert_exporter": "python",
   "pygments_lexer": "ipython3",
   "version": "3.6.5"
  }
 },
 "nbformat": 4,
 "nbformat_minor": 2
}
